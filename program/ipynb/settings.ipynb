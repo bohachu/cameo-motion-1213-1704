{
 "cells": [
  {
   "cell_type": "code",
   "execution_count": 2,
   "metadata": {},
   "outputs": [
    {
     "data": {
      "application/vnd.jupyter.widget-view+json": {
       "model_id": "520ddedd2dc34cd196a7098c55ac40b1",
       "version_major": 2,
       "version_minor": 0
      },
      "text/plain": [
       "Button(description='my-web 回復原廠設定', layout=Layout(height='40px', width='200px'), style=ButtonStyle())"
      ]
     },
     "metadata": {},
     "output_type": "display_data"
    },
    {
     "data": {
      "application/vnd.jupyter.widget-view+json": {
       "model_id": "f64bd0defad449f087f250455d1ddea4",
       "version_major": 2,
       "version_minor": 0
      },
      "text/plain": [
       "Output()"
      ]
     },
     "metadata": {},
     "output_type": "display_data"
    }
   ],
   "source": [
    "import ipywidgets as widgets\n",
    "from ipywidgets import Button, Layout\n",
    "import os, shutil\n",
    "\n",
    "from IPython.display import display\n",
    "\n",
    "button_myweb_reset = widgets.Button(description=\"my-web 回復原廠設定\",layout=Layout(width='200px', height='40px'))\n",
    "output_myweb_reset = widgets.Output()\n",
    "\n",
    "display(button_myweb_reset,output_myweb_reset)\n",
    "\n",
    "def on_button_clicked_myweb_reset(b):\n",
    "    backup_my_web()\n",
    "    reset_my_web()\n",
    "\n",
    "def reset_my_web():\n",
    "    with output_myweb_reset:\n",
    "        print(\"my-web 重置中...\")\n",
    "    src_folder=\"./system/www\"\n",
    "    new_folder_name=\"./my-web\"\n",
    "\n",
    "    if os.path.exists(new_folder_name):\n",
    "        shutil.rmtree(new_folder_name)\n",
    "    copytree(src_folder,new_folder_name)\n",
    "    with output_myweb_reset:\n",
    "        print(\"my-web 重置完成\")\n",
    "    \n",
    "def backup_my_web():\n",
    "    with output_myweb_reset:\n",
    "        print(\"my-web 備份中...\")\n",
    "\n",
    "    src_folder=\"./my-web\"\n",
    "    original_folder_name=\"./history/my-web\"\n",
    "    new_folder_name=\"./history/my-web\"\n",
    "    folder_duplicate_number=0\n",
    "    while 1:\n",
    "        if not os.path.exists(new_folder_name):\n",
    "            os.makedirs(new_folder_name)\n",
    "            break\n",
    "        else:\n",
    "            folder_duplicate_number+=1\n",
    "            new_folder_name=original_folder_name+\"-\"+str(folder_duplicate_number)\n",
    "    copytree(src_folder,new_folder_name)\n",
    "       \n",
    "    with output_myweb_reset:\n",
    "        print(\"my-web 備份完成\")\n",
    "\n",
    "button_myweb_reset.on_click(on_button_clicked_myweb_reset)\n",
    "\n",
    "def copytree(src, dst, symlinks=False, ignore=None):\n",
    "    for item in os.listdir(src):\n",
    "        s = os.path.join(src, item)\n",
    "        d = os.path.join(dst, item)\n",
    "        if os.path.isdir(s):\n",
    "            shutil.copytree(s, d, symlinks, ignore)\n",
    "        else:\n",
    "            shutil.copy2(s, d)"
   ]
  },
  {
   "cell_type": "code",
   "execution_count": null,
   "metadata": {},
   "outputs": [],
   "source": []
  }
 ],
 "metadata": {
  "kernelspec": {
   "display_name": "Python 3",
   "language": "python",
   "name": "python3"
  },
  "language_info": {
   "codemirror_mode": {
    "name": "ipython",
    "version": 3
   },
   "file_extension": ".py",
   "mimetype": "text/x-python",
   "name": "python",
   "nbconvert_exporter": "python",
   "pygments_lexer": "ipython3",
   "version": "3.7.3"
  }
 },
 "nbformat": 4,
 "nbformat_minor": 4
}
