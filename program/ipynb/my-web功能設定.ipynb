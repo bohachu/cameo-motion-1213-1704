{
 "cells": [
  {
   "cell_type": "code",
   "execution_count": 1,
   "metadata": {
    "jupyter": {
     "source_hidden": true
    }
   },
   "outputs": [
    {
     "name": "stdout",
     "output_type": "stream",
     "text": [
      "調整顏色色碼,請至連結挑選 : https://colors.muz.li/\n",
      "\n"
     ]
    },
    {
     "data": {
      "application/vnd.jupyter.widget-view+json": {
       "model_id": "",
       "version_major": 2,
       "version_minor": 0
      },
      "text/plain": [
       "Button(description='創建 app-cameo-divergent-stacked-bars 目錄', layout=Layout(height='40px', width='300px'), styl…"
      ]
     },
     "metadata": {},
     "output_type": "display_data"
    },
    {
     "data": {
      "application/vnd.jupyter.widget-view+json": {
       "model_id": "",
       "version_major": 2,
       "version_minor": 0
      },
      "text/plain": [
       "Output()"
      ]
     },
     "metadata": {},
     "output_type": "display_data"
    },
    {
     "data": {
      "application/vnd.jupyter.widget-view+json": {
       "model_id": "",
       "version_major": 2,
       "version_minor": 0
      },
      "text/plain": [
       "Button(description='創建 app-cameo-run 目錄', layout=Layout(height='40px', width='300px'), style=ButtonStyle())"
      ]
     },
     "metadata": {},
     "output_type": "display_data"
    },
    {
     "data": {
      "application/vnd.jupyter.widget-view+json": {
       "model_id": "",
       "version_major": 2,
       "version_minor": 0
      },
      "text/plain": [
       "Output()"
      ]
     },
     "metadata": {},
     "output_type": "display_data"
    },
    {
     "data": {
      "application/vnd.jupyter.widget-view+json": {
       "model_id": "",
       "version_major": 2,
       "version_minor": 0
      },
      "text/plain": [
       "Button(description='創建 app-cameo-line 目錄', layout=Layout(height='40px', width='300px'), style=ButtonStyle())"
      ]
     },
     "metadata": {},
     "output_type": "display_data"
    },
    {
     "data": {
      "application/vnd.jupyter.widget-view+json": {
       "model_id": "",
       "version_major": 2,
       "version_minor": 0
      },
      "text/plain": [
       "Output()"
      ]
     },
     "metadata": {},
     "output_type": "display_data"
    },
    {
     "data": {
      "application/vnd.jupyter.widget-view+json": {
       "model_id": "",
       "version_major": 2,
       "version_minor": 0
      },
      "text/plain": [
       "Button(description='創建 app-cameo-rank 目錄', layout=Layout(height='40px', width='300px'), style=ButtonStyle())"
      ]
     },
     "metadata": {},
     "output_type": "display_data"
    },
    {
     "data": {
      "application/vnd.jupyter.widget-view+json": {
       "model_id": "",
       "version_major": 2,
       "version_minor": 0
      },
      "text/plain": [
       "Output()"
      ]
     },
     "metadata": {},
     "output_type": "display_data"
    },
    {
     "data": {
      "application/vnd.jupyter.widget-view+json": {
       "model_id": "",
       "version_major": 2,
       "version_minor": 0
      },
      "text/plain": [
       "Button(description='創建 app-cameo-multi-axis-prediction 目錄', layout=Layout(height='40px', width='300px'), style…"
      ]
     },
     "metadata": {},
     "output_type": "display_data"
    },
    {
     "data": {
      "application/vnd.jupyter.widget-view+json": {
       "model_id": "",
       "version_major": 2,
       "version_minor": 0
      },
      "text/plain": [
       "Output()"
      ]
     },
     "metadata": {},
     "output_type": "display_data"
    },
    {
     "data": {
      "application/vnd.jupyter.widget-view+json": {
       "model_id": "",
       "version_major": 2,
       "version_minor": 0
      },
      "text/plain": [
       "Button(description='創建 app-cameo-map-tw 目錄', layout=Layout(height='40px', width='300px'), style=ButtonStyle())"
      ]
     },
     "metadata": {},
     "output_type": "display_data"
    },
    {
     "data": {
      "application/vnd.jupyter.widget-view+json": {
       "model_id": "",
       "version_major": 2,
       "version_minor": 0
      },
      "text/plain": [
       "Output()"
      ]
     },
     "metadata": {},
     "output_type": "display_data"
    },
    {
     "data": {
      "application/vnd.jupyter.widget-view+json": {
       "model_id": "",
       "version_major": 2,
       "version_minor": 0
      },
      "text/plain": [
       "Button(description='取得 iframe 碼', layout=Layout(height='40px', width='200px'), style=ButtonStyle())"
      ]
     },
     "metadata": {},
     "output_type": "display_data"
    },
    {
     "data": {
      "application/vnd.jupyter.widget-view+json": {
       "model_id": "",
       "version_major": 2,
       "version_minor": 0
      },
      "text/plain": [
       "Output()"
      ]
     },
     "metadata": {},
     "output_type": "display_data"
    },
    {
     "data": {
      "application/vnd.jupyter.widget-view+json": {
       "model_id": "",
       "version_major": 2,
       "version_minor": 0
      },
      "text/plain": [
       "Button(description='取得預覽網址', layout=Layout(height='40px', width='200px'), style=ButtonStyle())"
      ]
     },
     "metadata": {},
     "output_type": "display_data"
    },
    {
     "data": {
      "application/vnd.jupyter.widget-view+json": {
       "model_id": "",
       "version_major": 2,
       "version_minor": 0
      },
      "text/plain": [
       "Output()"
      ]
     },
     "metadata": {},
     "output_type": "display_data"
    }
   ],
   "source": [
    "import ipywidgets as widgets\n",
    "from ipywidgets import Button, Layout\n",
    "# import os, shutil\n",
    "import sys\n",
    "\n",
    "from IPython.display import display\n",
    "str_path2add = str('/root/user_util/')\n",
    "if not (str_path2add in sys.path):\n",
    "    sys.path.append(str_path2add)\n",
    "from myweb_util import button_app_cameo_divergent_stacked_bars,output_app_cameo_divergent_stacked_bars,button_app_cameo_run,output_app_cameo_run,button_cameo_app_cameo_line,output_cameo_app_cameo_line,button_app_cameo_rank,output_app_cameo_rank,button_app_cameo_multi_axis_prediction,output_app_cameo_multi_axis_prediction,button_app_cameo_map_tw,output_app_cameo_map_tw,button_get_iframe,output_get_iframe,button_get_preview,output_get_preview,on_button_clicked_app_cameo_run, on_button_clicked_app_cameo_rank, on_button_clicked_app_cameo_multi_axis_prediction, on_button_clicked_app_cameo_map_tw, on_button_clicked_cameo_app_cameo_line, on_button_clicked_cameo_divergent_stacked_bars, on_button_clicked_get_iframe, on_button_clicked_get_preview\n",
    "\n",
    "print(\"調整顏色色碼,請至連結挑選 : \"+\"https://colors.muz.li/\")\n",
    "print(\"\")\n",
    "\n",
    "display(button_app_cameo_divergent_stacked_bars, output_app_cameo_divergent_stacked_bars)\n",
    "display(button_app_cameo_run,output_app_cameo_run)\n",
    "display(button_cameo_app_cameo_line, output_cameo_app_cameo_line)\n",
    "display(button_app_cameo_rank, output_app_cameo_rank)\n",
    "display(button_app_cameo_multi_axis_prediction, output_app_cameo_multi_axis_prediction)\n",
    "display(button_app_cameo_map_tw, output_app_cameo_map_tw)\n",
    "\n",
    "button_app_cameo_run.on_click(on_button_clicked_app_cameo_run(output_app_cameo_run))        \n",
    "\n",
    "button_app_cameo_rank.on_click(on_button_clicked_app_cameo_rank(output_app_cameo_rank))\n",
    "\n",
    "button_app_cameo_multi_axis_prediction.on_click(on_button_clicked_app_cameo_multi_axis_prediction(output_app_cameo_multi_axis_prediction))\n",
    "\n",
    "button_app_cameo_map_tw.on_click(on_button_clicked_app_cameo_map_tw(output_app_cameo_map_tw))\n",
    "\n",
    "button_cameo_app_cameo_line.on_click(on_button_clicked_cameo_app_cameo_line(output_cameo_app_cameo_line))\n",
    "\n",
    "button_app_cameo_divergent_stacked_bars.on_click(on_button_clicked_cameo_divergent_stacked_bars(output_app_cameo_divergent_stacked_bars))\n",
    "\n",
    "display(button_get_iframe,output_get_iframe)\n",
    "\n",
    "button_get_iframe.on_click(on_button_clicked_get_iframe(output_get_iframe))   \n",
    "\n",
    "display(button_get_preview,output_get_iframe)\n",
    "\n",
    "button_get_preview.on_click(on_button_clicked_get_preview(output_get_preview))  "
   ]
  }
 ],
 "metadata": {
  "kernelspec": {
   "display_name": "Python 3",
   "language": "python",
   "name": "python3"
  },
  "language_info": {
   "codemirror_mode": {
    "name": "ipython",
    "version": 3
   },
   "file_extension": ".py",
   "mimetype": "text/x-python",
   "name": "python",
   "nbconvert_exporter": "python",
   "pygments_lexer": "ipython3",
   "version": "3.7.3"
  }
 },
 "nbformat": 4,
 "nbformat_minor": 4
}