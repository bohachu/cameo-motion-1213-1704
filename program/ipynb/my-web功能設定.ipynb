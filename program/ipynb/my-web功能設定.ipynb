{
 "cells": [
  {
   "cell_type": "code",
   "execution_count": 1,
   "metadata": {},
   "outputs": [
    {
     "name": "stdout",
     "output_type": "stream",
     "text": [
      "調整顏色色碼,請至連結挑選 : https://colors.muz.li/\n",
      "\n"
     ]
    },
    {
     "data": {
      "application/vnd.jupyter.widget-view+json": {
       "model_id": "d44603e52a17411db224c2267880b426",
       "version_major": 2,
       "version_minor": 0
      },
      "text/plain": [
       "Button(description='創建 app-cameo-divergent-stacked-bars 目錄', layout=Layout(height='40px', width='300px'), styl…"
      ]
     },
     "metadata": {},
     "output_type": "display_data"
    },
    {
     "data": {
      "application/vnd.jupyter.widget-view+json": {
       "model_id": "8f5804d45a0d4bf59337b5647ac3c7ae",
       "version_major": 2,
       "version_minor": 0
      },
      "text/plain": [
       "Output()"
      ]
     },
     "metadata": {},
     "output_type": "display_data"
    },
    {
     "data": {
      "application/vnd.jupyter.widget-view+json": {
       "model_id": "1336c903490e4e378b91ef8d8909c666",
       "version_major": 2,
       "version_minor": 0
      },
      "text/plain": [
       "Button(description='創建 app-cameo-run 目錄', layout=Layout(height='40px', width='300px'), style=ButtonStyle())"
      ]
     },
     "metadata": {},
     "output_type": "display_data"
    },
    {
     "data": {
      "application/vnd.jupyter.widget-view+json": {
       "model_id": "0a23807c7a5c4bc0ad3802df18aff2ea",
       "version_major": 2,
       "version_minor": 0
      },
      "text/plain": [
       "Output()"
      ]
     },
     "metadata": {},
     "output_type": "display_data"
    },
    {
     "data": {
      "application/vnd.jupyter.widget-view+json": {
       "model_id": "274cd25a399b4bfa87cde74a9984aa65",
       "version_major": 2,
       "version_minor": 0
      },
      "text/plain": [
       "Button(description='創建 app-cameo-line 目錄', layout=Layout(height='40px', width='300px'), style=ButtonStyle())"
      ]
     },
     "metadata": {},
     "output_type": "display_data"
    },
    {
     "data": {
      "application/vnd.jupyter.widget-view+json": {
       "model_id": "15296754d3cd430ca81d42a2dba42dba",
       "version_major": 2,
       "version_minor": 0
      },
      "text/plain": [
       "Output()"
      ]
     },
     "metadata": {},
     "output_type": "display_data"
    },
    {
     "data": {
      "application/vnd.jupyter.widget-view+json": {
       "model_id": "20bd8b8ff07e41738b2d8462f6fcb170",
       "version_major": 2,
       "version_minor": 0
      },
      "text/plain": [
       "Button(description='創建 app-cameo-rank 目錄', layout=Layout(height='40px', width='300px'), style=ButtonStyle())"
      ]
     },
     "metadata": {},
     "output_type": "display_data"
    },
    {
     "data": {
      "application/vnd.jupyter.widget-view+json": {
       "model_id": "92e92c12a8ce46d9912d7c3a012d4496",
       "version_major": 2,
       "version_minor": 0
      },
      "text/plain": [
       "Output()"
      ]
     },
     "metadata": {},
     "output_type": "display_data"
    },
    {
     "data": {
      "application/vnd.jupyter.widget-view+json": {
       "model_id": "775ec4383ad44054830570700bbffab3",
       "version_major": 2,
       "version_minor": 0
      },
      "text/plain": [
       "Button(description='創建 app-cameo-multi-axis-prediction 目錄', layout=Layout(height='40px', width='300px'), style…"
      ]
     },
     "metadata": {},
     "output_type": "display_data"
    },
    {
     "data": {
      "application/vnd.jupyter.widget-view+json": {
       "model_id": "a36b566fa789493db7935f1458844ca3",
       "version_major": 2,
       "version_minor": 0
      },
      "text/plain": [
       "Output()"
      ]
     },
     "metadata": {},
     "output_type": "display_data"
    },
    {
     "data": {
      "application/vnd.jupyter.widget-view+json": {
       "model_id": "a0410687595a41cbbdb4d5d56f719d55",
       "version_major": 2,
       "version_minor": 0
      },
      "text/plain": [
       "Button(description='創建 app-cameo-map-tw 目錄', layout=Layout(height='40px', width='300px'), style=ButtonStyle())"
      ]
     },
     "metadata": {},
     "output_type": "display_data"
    },
    {
     "data": {
      "application/vnd.jupyter.widget-view+json": {
       "model_id": "c1359774f0444fca9aaec6572fd915c4",
       "version_major": 2,
       "version_minor": 0
      },
      "text/plain": [
       "Output()"
      ]
     },
     "metadata": {},
     "output_type": "display_data"
    },
    {
     "data": {
      "application/vnd.jupyter.widget-view+json": {
       "model_id": "bdb100434af247448b9e3803aac12bfd",
       "version_major": 2,
       "version_minor": 0
      },
      "text/plain": [
       "Button(description='取得 iframe 碼', layout=Layout(height='40px', width='200px'), style=ButtonStyle())"
      ]
     },
     "metadata": {},
     "output_type": "display_data"
    },
    {
     "data": {
      "application/vnd.jupyter.widget-view+json": {
       "model_id": "1df66244ccf54c1f97c5bee43321d4b0",
       "version_major": 2,
       "version_minor": 0
      },
      "text/plain": [
       "Output()"
      ]
     },
     "metadata": {},
     "output_type": "display_data"
    },
    {
     "data": {
      "application/vnd.jupyter.widget-view+json": {
       "model_id": "82191b005a2340e5aa97050b30bd0414",
       "version_major": 2,
       "version_minor": 0
      },
      "text/plain": [
       "Button(description='取得預覽網址', layout=Layout(height='40px', width='200px'), style=ButtonStyle())"
      ]
     },
     "metadata": {},
     "output_type": "display_data"
    },
    {
     "data": {
      "application/vnd.jupyter.widget-view+json": {
       "model_id": "c5a52fcb5eb14378ae562cd159c75244",
       "version_major": 2,
       "version_minor": 0
      },
      "text/plain": [
       "Output()"
      ]
     },
     "metadata": {},
     "output_type": "display_data"
    }
   ],
   "source": [
    "import ipywidgets as widgets\n",
    "from ipywidgets import Button, Layout\n",
    "import os, shutil\n",
    "\n",
    "from IPython.display import display\n",
    "\n",
    "btn_width='300px'\n",
    "btn_height='40px'\n",
    "\n",
    "print(\"調整顏色色碼,請至連結挑選 : \"+\"https://colors.muz.li/\")\n",
    "print(\"\")\n",
    "\n",
    "button_app_cameo_divergent_stacked_bars = widgets.Button(description=\"創建 app-cameo-divergent-stacked-bars 目錄\",layout=Layout(width=btn_width, height=btn_height))\n",
    "output_app_cameo_divergent_stacked_bars = widgets.Output()\n",
    "\n",
    "button_app_cameo_run = widgets.Button(description=\"創建 app-cameo-run 目錄\",layout=Layout(width=btn_width, height=btn_height))\n",
    "output_app_cameo_run = widgets.Output()\n",
    "\n",
    "button_cameo_app_cameo_line = widgets.Button(description=\"創建 app-cameo-line 目錄\",layout=Layout(width=btn_width, height=btn_height))\n",
    "output_cameo_app_cameo_line = widgets.Output()\n",
    "\n",
    "button_app_cameo_rank = widgets.Button(description=\"創建 app-cameo-rank 目錄\",layout=Layout(width=btn_width, height=btn_height))\n",
    "output_app_cameo_rank = widgets.Output()\n",
    "\n",
    "button_app_cameo_multi_axis_prediction = widgets.Button(description=\"創建 app-cameo-multi-axis-prediction 目錄\",layout=Layout(width=btn_width, height=btn_height))\n",
    "output_app_cameo_multi_axis_prediction = widgets.Output()\n",
    "\n",
    "button_app_cameo_map_tw = widgets.Button(description=\"創建 app-cameo-map-tw 目錄\",layout=Layout(width=btn_width, height=btn_height))\n",
    "output_app_cameo_map_tw = widgets.Output()\n",
    "\n",
    "display(button_app_cameo_divergent_stacked_bars, output_app_cameo_divergent_stacked_bars)\n",
    "display(button_app_cameo_run,output_app_cameo_run)\n",
    "display(button_cameo_app_cameo_line, output_cameo_app_cameo_line)\n",
    "display(button_app_cameo_rank, output_app_cameo_rank)\n",
    "display(button_app_cameo_multi_axis_prediction, output_app_cameo_multi_axis_prediction)\n",
    "display(button_app_cameo_map_tw, output_app_cameo_map_tw)\n",
    "\n",
    "def on_button_clicked_app_cameo_run(b):\n",
    "    src_folder=\"./components/app-cameo-run\"\n",
    "    folder_name=\"./app-cameo-run\"\n",
    "    check_folder_name=\"./app-cameo-run\"\n",
    "    folder_duplicate_number=0\n",
    "    while 1:\n",
    "        if not os.path.exists(check_folder_name):\n",
    "            os.makedirs(check_folder_name)\n",
    "            break\n",
    "        else:\n",
    "            folder_duplicate_number+=1\n",
    "            check_folder_name=folder_name+\"-\"+str(folder_duplicate_number)\n",
    "    copytree(src_folder,check_folder_name)\n",
    "    copyIframeGeneratorToComponet(check_folder_name)\n",
    "    with output_app_cameo_run:\n",
    "        print(check_folder_name+\" creating...\")\n",
    "\n",
    "\n",
    "def on_button_clicked_app_cameo_rank(b):\n",
    "    src_folder=\"./components/app-cameo-rank\"\n",
    "    folder_name=\"./app-cameo-rank\"\n",
    "    check_folder_name=\"./app-cameo-rank\"\n",
    "    folder_duplicate_number=0\n",
    "    while 1:\n",
    "        if not os.path.exists(check_folder_name):\n",
    "            os.makedirs(check_folder_name)\n",
    "            break\n",
    "        else:\n",
    "            folder_duplicate_number+=1\n",
    "            check_folder_name=folder_name+\"-\"+str(folder_duplicate_number)\n",
    "    copytree(src_folder,check_folder_name)\n",
    "    copyIframeGeneratorToComponet(check_folder_name)\n",
    "    with output_app_cameo_rank:\n",
    "        print(check_folder_name+\" creating...\")\n",
    "\n",
    "def on_button_clicked_app_cameo_multi_axis_prediction(b):\n",
    "    src_folder=\"./components/app-cameo-multi-axis-prediction\"\n",
    "    folder_name=\"./app-cameo-multi-axis-prediction\"\n",
    "    check_folder_name=\"./app-cameo-multi-axis-prediction\"\n",
    "    folder_duplicate_number=0\n",
    "    while 1:\n",
    "        if not os.path.exists(check_folder_name):\n",
    "            os.makedirs(check_folder_name)\n",
    "            break\n",
    "        else:\n",
    "            folder_duplicate_number+=1\n",
    "            check_folder_name=folder_name+\"-\"+str(folder_duplicate_number)\n",
    "    copytree(src_folder,check_folder_name)\n",
    "    copyIframeGeneratorToComponet(check_folder_name)\n",
    "    with output_app_cameo_multi_axis_prediction:\n",
    "        print(check_folder_name+\" creating...\")\n",
    "\n",
    "def on_button_clicked_app_cameo_map_tw(b):\n",
    "    src_folder=\"./components/app-cameo-map-tw\"\n",
    "    folder_name=\"./app-cameo-map-tw\"\n",
    "    check_folder_name=\"./app-cameo-map-tw\"\n",
    "    folder_duplicate_number=0\n",
    "    while 1:\n",
    "        if not os.path.exists(check_folder_name):\n",
    "            os.makedirs(check_folder_name)\n",
    "            break\n",
    "        else:\n",
    "            folder_duplicate_number+=1\n",
    "            check_folder_name=folder_name+\"-\"+str(folder_duplicate_number)\n",
    "    copytree(src_folder,check_folder_name)\n",
    "    copyIframeGeneratorToComponet(check_folder_name)\n",
    "    with output_app_cameo_map_tw:\n",
    "        print(check_folder_name+\" creating...\")\n",
    "\n",
    "def on_button_clicked_cameo_app_cameo_line(b):\n",
    "    src_folder=\"./components/app-cameo-line\"\n",
    "    folder_name=\"./app-cameo-line\"\n",
    "    check_folder_name=\"./app-cameo-line\"\n",
    "    folder_duplicate_number=0\n",
    "    while 1:\n",
    "        if not os.path.exists(check_folder_name):\n",
    "            os.makedirs(check_folder_name)\n",
    "            break\n",
    "        else:\n",
    "            folder_duplicate_number+=1\n",
    "            check_folder_name=folder_name+\"-\"+str(folder_duplicate_number)\n",
    "    copytree(src_folder,check_folder_name)\n",
    "    copyIframeGeneratorToComponet(check_folder_name)\n",
    "    with output_cameo_app_cameo_line:\n",
    "        print(check_folder_name+\" creating...\")\n",
    "        \n",
    "def on_button_clicked_cameo_divergent_stacked_bars(b):\n",
    "    src_folder=\"./components/app-cameo-divergent-stacked-bars\"\n",
    "    folder_name=\"./app-cameo-divergent-stacked-bars\"\n",
    "    check_folder_name=\"./app-cameo-divergent-stacked-bars\"\n",
    "    folder_duplicate_number=0\n",
    "    while 1:\n",
    "        if not os.path.exists(check_folder_name):\n",
    "            os.makedirs(check_folder_name)\n",
    "            break\n",
    "        else:\n",
    "            folder_duplicate_number+=1\n",
    "            check_folder_name=folder_name+\"-\"+str(folder_duplicate_number)\n",
    "    copytree(src_folder,check_folder_name)\n",
    "    copyIframeGeneratorToComponet(check_folder_name)\n",
    "    with output_app_cameo_divergent_stacked_bars:\n",
    "        print(check_folder_name+\" creating...\")\n",
    "\n",
    "button_app_cameo_run.on_click(on_button_clicked_app_cameo_run)        \n",
    "button_app_cameo_rank.on_click(on_button_clicked_app_cameo_rank)\n",
    "button_app_cameo_multi_axis_prediction.on_click(on_button_clicked_app_cameo_multi_axis_prediction)\n",
    "button_app_cameo_map_tw.on_click(on_button_clicked_app_cameo_map_tw)\n",
    "button_cameo_app_cameo_line.on_click(on_button_clicked_cameo_app_cameo_line)\n",
    "button_app_cameo_divergent_stacked_bars.on_click(on_button_clicked_cameo_divergent_stacked_bars)\n",
    "\n",
    "def copyIframeGeneratorToComponet(dist):\n",
    "    shutil.copy2(\"/root/user_util/get-iframe.ipynb\",dist)\n",
    "    \n",
    "def copytree(src, dst, symlinks=False, ignore=None):\n",
    "    for item in os.listdir(src):\n",
    "        s = os.path.join(src, item)\n",
    "        d = os.path.join(dst, item)\n",
    "        if os.path.isdir(s):\n",
    "            shutil.copytree(s, d, symlinks, ignore)\n",
    "        else:\n",
    "            shutil.copy2(s, d)\n",
    "            \n",
    "#\n",
    "button_get_iframe = widgets.Button(description=\"取得 iframe 碼\",layout=Layout(width='200px', height='40px'))\n",
    "output_get_iframe = widgets.Output()\n",
    "\n",
    "display(button_get_iframe,output_get_iframe)\n",
    "\n",
    "def on_button_clicked_get_iframe(b):\n",
    "    with output_get_iframe:\n",
    "        print(\"iframe 碼如下\")\n",
    "        dic_name= os.getcwd().split(\"/\")\n",
    "        print(\"<iframe frameborder=\\\"0\\\" src=\\\"https://iek.cameo.tw/.\"+dic_name[len(dic_name)-2]+\"\\\" width=\\\"100%\\\" height=\\\"900\\\"> </iframe>\")\n",
    "\n",
    "button_get_iframe.on_click(on_button_clicked_get_iframe)   \n",
    "\n",
    "#\n",
    "button_get_iframe = widgets.Button(description=\"取得預覽網址\",layout=Layout(width='200px', height='40px'))\n",
    "output_get_iframe = widgets.Output()\n",
    "\n",
    "display(button_get_iframe,output_get_iframe)\n",
    "\n",
    "def on_button_clicked_get_iframe(b):\n",
    "    with output_get_iframe:\n",
    "        print(\"預覽網址如下\")\n",
    "        #print(\"https://iek.cameo.tw/\"+dic_name[len(dic_name)-2]+\"/\"+dic_name[len(dic_name)-1])\n",
    "        dic_name= os.getcwd().split(\"/\")\n",
    "        print (\"https://iek.cameo.tw/.\"+dic_name[len(dic_name)-2])\n",
    "\n",
    "button_get_iframe.on_click(on_button_clicked_get_iframe)  "
   ]
  },
  {
   "cell_type": "code",
   "execution_count": 2,
   "metadata": {},
   "outputs": [
    {
     "data": {
      "text/plain": [
       "'./get-iframe.ipynb'"
      ]
     },
     "execution_count": 2,
     "metadata": {},
     "output_type": "execute_result"
    }
   ],
   "source": [
    "\n",
    "shutil.copy2(\"/root/user_util/get-iframe.ipynb\",\"./\")"
   ]
  },
  {
   "cell_type": "code",
   "execution_count": null,
   "metadata": {},
   "outputs": [],
   "source": []
  }
 ],
 "metadata": {
  "kernelspec": {
   "display_name": "Python 3",
   "language": "python",
   "name": "python3"
  },
  "language_info": {
   "codemirror_mode": {
    "name": "ipython",
    "version": 3
   },
   "file_extension": ".py",
   "mimetype": "text/x-python",
   "name": "python",
   "nbconvert_exporter": "python",
   "pygments_lexer": "ipython3",
   "version": "3.7.3"
  }
 },
 "nbformat": 4,
 "nbformat_minor": 4
}
