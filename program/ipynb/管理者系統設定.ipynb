{
 "cells": [
  {
   "cell_type": "code",
   "execution_count": 2,
   "metadata": {
    "jupyter": {
     "source_hidden": true
    }
   },
   "outputs": [
    {
     "data": {
      "application/vnd.jupyter.widget-view+json": {
       "model_id": "57cf9807e84249b6bc59ba42fa21e67a",
       "version_major": 2,
       "version_minor": 0
      },
      "text/plain": [
       "Button(description='www 回復原廠設定', layout=Layout(height='40px', width='200px'), style=ButtonStyle())"
      ]
     },
     "metadata": {},
     "output_type": "display_data"
    },
    {
     "data": {
      "application/vnd.jupyter.widget-view+json": {
       "model_id": "9e72f84afa874662bfe0d5cab7711e91",
       "version_major": 2,
       "version_minor": 0
      },
      "text/plain": [
       "Output()"
      ]
     },
     "metadata": {},
     "output_type": "display_data"
    },
    {
     "data": {
      "application/vnd.jupyter.widget-view+json": {
       "model_id": "b4a532f39ee9413f86dda0d7e96e099e",
       "version_major": 2,
       "version_minor": 0
      },
      "text/plain": [
       "Button(description='my-web 回復原廠設定', layout=Layout(height='40px', width='200px'), style=ButtonStyle())"
      ]
     },
     "metadata": {},
     "output_type": "display_data"
    },
    {
     "data": {
      "application/vnd.jupyter.widget-view+json": {
       "model_id": "5493d0a1b15c42cda93119a0c5bef779",
       "version_major": 2,
       "version_minor": 0
      },
      "text/plain": [
       "Output()"
      ]
     },
     "metadata": {},
     "output_type": "display_data"
    }
   ],
   "source": [
    "import ipywidgets as widgets\n",
    "from ipywidgets import Button, Layout\n",
    "import sys\n",
    "# import os, shutil\n",
    "# from distutils import dir_util\n",
    "\n",
    "from IPython.display import display\n",
    "\n",
    "str_path2add = str('/root/admin_util/')\n",
    "if not (str_path2add in sys.path):\n",
    "    sys.path.append(str_path2add)\n",
    "from .sys_util_admin import on_button_clicked_myweb_reset, on_button_clicked_www_reset\n",
    "\n",
    "# button_myweb_reset = widgets.Button(description=\"my-web 回復原廠設定\",layout=Layout(width='200px', height='40px'))\n",
    "# output_myweb_reset = widgets.Output()\n",
    "\n",
    "button_www_reset = widgets.Button(description=\"www 回復原廠設定\",layout=Layout(width='200px', height='40px'))\n",
    "output_www_reset = widgets.Output()\n",
    "\n",
    "# display(button_myweb_reset,output_myweb_reset)\n",
    "display(button_www_reset,output_www_reset)\n",
    "\n",
    "# button_myweb_reset.on_click(on_button_clicked_myweb_reset)\n",
    "button_www_reset.on_click(on_button_clicked_www_reset(output_www_reset))\n",
    "\n",
    "##################################################\n",
    "\n",
    "button_myweb_reset = widgets.Button(description=\"my-web 回復原廠設定\",layout=Layout(width='200px', height='40px'))\n",
    "output_myweb_reset = widgets.Output()\n",
    "\n",
    "display(button_myweb_reset,output_myweb_reset)\n",
    "\n",
    "\n",
    "button_myweb_reset.on_click(on_button_clicked_myweb_reset(output_myweb_reset))"
   ]
  },
  {
   "cell_type": "code",
   "execution_count": null,
   "metadata": {},
   "outputs": [],
   "source": []
  }
 ],
 "metadata": {
  "kernelspec": {
   "display_name": "Python 3",
   "language": "python",
   "name": "python3"
  },
  "language_info": {
   "codemirror_mode": {
    "name": "ipython",
    "version": 3
   },
   "file_extension": ".py",
   "mimetype": "text/x-python",
   "name": "python",
   "nbconvert_exporter": "python",
   "pygments_lexer": "ipython3",
   "version": "3.7.3"
  }
 },
 "nbformat": 4,
 "nbformat_minor": 4
}