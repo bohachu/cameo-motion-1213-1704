{
 "cells": [
  {
   "cell_type": "code",
   "execution_count": 2,
   "metadata": {
    "jupyter": {
     "source_hidden": true
    }
   },
   "outputs": [
    {
     "data": {
      "application/vnd.jupyter.widget-view+json": {
       "model_id": "",
       "version_major": 2,
       "version_minor": 0
      },
      "text/plain": [
       "Button(description='my-web 回復原廠設定', layout=Layout(height='40px', width='200px'), style=ButtonStyle())"
      ]
     },
     "metadata": {},
     "output_type": "display_data"
    },
    {
     "data": {
      "application/vnd.jupyter.widget-view+json": {
       "model_id": "",
       "version_major": 2,
       "version_minor": 0
      },
      "text/plain": [
       "Output()"
      ]
     },
     "metadata": {},
     "output_type": "display_data"
    }
   ],
   "source": [
    "import sys\n",
    "# import os, shutil\n",
    "str_path2add = str('/root/user_util/')\n",
    "if not (str_path2add in sys.path):\n",
    "    sys.path.append(str_path2add)\n",
    "from sys_util_user import on_button_clicked_myweb_reset\n",
    "\n",
    "from IPython.display import display\n",
    "\n",
    "# button_myweb_reset = widgets.Button(description=\"my-web 回復原廠設定\",layout=Layout(width='200px', height='40px'))\n",
    "# output_myweb_reset = widgets.Output()\n",
    "\n",
    "display(button_myweb_reset,output_myweb_reset)\n",
    "\n",
    "button_myweb_reset.on_click(on_button_clicked_myweb_reset)\n"
   ]
  },
  {
   "cell_type": "code",
   "execution_count": null,
   "metadata": {},
   "outputs": [],
   "source": []
  }
 ],
 "metadata": {
  "kernelspec": {
   "display_name": "Python 3",
   "language": "python",
   "name": "python3"
  },
  "language_info": {
   "codemirror_mode": {
    "name": "ipython",
    "version": 3
   },
   "file_extension": ".py",
   "mimetype": "text/x-python",
   "name": "python",
   "nbconvert_exporter": "python",
   "pygments_lexer": "ipython3",
   "version": "3.7.3"
  }
 },
 "nbformat": 4,
 "nbformat_minor": 4
}